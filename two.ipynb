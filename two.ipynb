{
 "cells": [
  {
   "cell_type": "code",
   "execution_count": 11,
   "id": "b59de5e3",
   "metadata": {},
   "outputs": [],
   "source": [
    "import numpy as np\n",
    "import pandas as pd\n",
    "from sklearn.decomposition import PCA\n",
    "from sklearn.svm import LinearSVC\n",
    "from sklearn.model_selection import train_test_split\n",
    "import matplotlib.pyplot as plt\n",
    "import seaborn as sns"
   ]
  },
  {
   "cell_type": "code",
   "execution_count": 12,
   "id": "6872923d",
   "metadata": {},
   "outputs": [],
   "source": [
    "\n",
    "data_matrix = pd.read_csv('./data_matrix.csv')\n",
    "classes = pd.read_csv('./classes.csv', index_col=0)['class']\n"
   ]
  },
  {
   "cell_type": "code",
   "execution_count": 13,
   "id": "e4008ab1",
   "metadata": {},
   "outputs": [],
   "source": [
    "\n",
    "# ---------------\n",
    "# Task 1: Calculate the standardized data matrix.\n",
    "# ---------------\n",
    "# Standardize the data matrix\n",
    "mean = data_matrix.mean(axis=0)\n",
    "sttd = data_matrix.std(axis=0)\n",
    "data_matrix_standardized = (data_matrix - mean) / sttd\n"
   ]
  },
  {
   "cell_type": "code",
   "execution_count": 14,
   "id": "3f26f53b",
   "metadata": {},
   "outputs": [],
   "source": [
    "# ---------------\n",
    "# Task 2: Perform PCA by fitting and transforming the data matrix.\n",
    "# ---------------\n",
    "# Find the principal components\n",
    "pca = PCA()\n"
   ]
  },
  {
   "cell_type": "code",
   "execution_count": 15,
   "id": "2dd87e1b",
   "metadata": {},
   "outputs": [
    {
     "name": "stdout",
     "output_type": "stream",
     "text": [
      "Number of features in the data matrix: 11\n",
      "Number of features in the principal components: 11\n"
     ]
    }
   ],
   "source": [
    "# Fit the standardized data and calculate the principal components\n",
    "principal_components = pca.fit_transform(data_matrix_standardized)\n",
    "print(f'Number of features in the data matrix: {principal_components.shape[1]}')\n",
    "print(f'Number of features in the principal components: {data_matrix.shape[1]}')\n"
   ]
  },
  {
   "cell_type": "code",
   "execution_count": 16,
   "id": "8c20dd63",
   "metadata": {},
   "outputs": [],
   "source": [
    "# ---------------\n",
    "# Task 3: Calculate the eigenvalues from the singular values and extract the eigenvectors.\n",
    "# ---------------\n",
    "# Find the eigenvalues from the singular values\n",
    "singular_values = pca.singular_values_\n",
    "eigenvalues = singular_values ** 2\n",
    "# Eigenvectors are in the property `.components_` as row vectors. To turn them into column vectors, transpose them using the NumPy method `.T`.\n",
    "eigenvectors = pca.components_\n"
   ]
  },
  {
   "cell_type": "code",
   "execution_count": 17,
   "id": "9d1ce078",
   "metadata": {},
   "outputs": [],
   "source": [
    "# ---------------\n",
    "# Task 4: Extract the variance ratios, which are equivalent to the eigenvalue proportions we calculated earlier.\n",
    "# ---------------\n",
    "# Get the variance ratios from the `explained_variance_ratio_`\n",
    "principal_axes_variance_ratios = pca.explained_variance_ratio_\n",
    "principal_axes_variance_percents = principal_axes_variance_ratios * 100\n"
   ]
  },
  {
   "cell_type": "code",
   "execution_count": 18,
   "id": "8aa60e8b",
   "metadata": {},
   "outputs": [
    {
     "name": "stdout",
     "output_type": "stream",
     "text": [
      "Number of Principal Components Features: 2\n",
      "Number of Original Data Features: 11\n"
     ]
    }
   ],
   "source": [
    "\n",
    "# ---------------\n",
    "# Task 5: Perform PCA once again but with 2 components\n",
    "# ---------------\n",
    "# Calculating principal components with 2 components\n",
    "# Initialize a PCA object with 2 components\n",
    "pca = PCA(n_components=2) \n",
    " \n",
    "# Fit the standardized data and calculate the principal components\n",
    "principal_components = pca.fit_transform(data_matrix_standardized)\n",
    " \n",
    "# Print the DataFrame\n",
    "print(f'Number of Principal Components Features: {principal_components.shape[1]}')\n",
    "print(f'Number of Original Data Features: {data_matrix_standardized.shape[1]}')\n",
    "\n"
   ]
  },
  {
   "cell_type": "code",
   "execution_count": 19,
   "id": "88265476",
   "metadata": {},
   "outputs": [
    {
     "ename": "SyntaxError",
     "evalue": "invalid syntax (Temp/ipykernel_32224/4278248971.py, line 12)",
     "output_type": "error",
     "traceback": [
      "\u001b[1;36m  File \u001b[1;32m\"C:\\Users\\EMMANU~1\\AppData\\Local\\Temp/ipykernel_32224/4278248971.py\"\u001b[1;36m, line \u001b[1;32m12\u001b[0m\n\u001b[1;33m    plt.show()\u001b[0m\n\u001b[1;37m    ^\u001b[0m\n\u001b[1;31mSyntaxError\u001b[0m\u001b[1;31m:\u001b[0m invalid syntax\n"
     ]
    }
   ],
   "source": [
    "\n",
    "# Task 6: Plot the principal components and have its class as its hue to see if clustering of any kind has occured.\n",
    "# ---------------\n",
    "# Plot the principal components as a scatterplot\n",
    "principal_components_data = pd.DataFrame({\n",
    "    'PC1': principal_components[:, 0],\n",
    "    'PC2': principal_components[:, 1],\n",
    "    'class': classes,\n",
    "})\n",
    "\n",
    "sns.lmplot(x='PC1', y='PC2', data=principal_components_data, hue='class', fit_reg=False)\n",
    "plt.show()\n",
    "\n",
    "\n",
    "# We will use the one-hot-encoded classes as the y\n",
    "y = classes.astype('category').cat.codes\n",
    " \n",
    " "
   ]
  },
  {
   "cell_type": "code",
   "execution_count": null,
   "id": "8462d9fe",
   "metadata": {},
   "outputs": [],
   "source": [
    "# ---------------\n",
    "# Task 7: Fit the transformed features onto the classifier and generate a score.\n",
    "# ---------------\n",
    "# Get principal components with 2 features \n",
    "# Perform PCA using 2 components\n",
    "pca_1 = PCA(n_components=2) \n",
    " \n",
    "# Use the principal components as X and split the data into 33% testing and the rest training\n",
    "X = pca_1.fit_transform(data_matrix_standardized) \n",
    "X_train, X_test, y_train, y_test = train_test_split(X, y, test_size=0.33, random_state=42)\n",
    " \n",
    "# Create a Linear Support Vector Classifier\n",
    "svc_1 = LinearSVC(random_state=0, tol=1e-5)\n",
    "svc_1.fit(X, y) \n",
    " \n",
    "# Generate a score for the testing data\n",
    "score_1 = svc_1.score(X_test, y_test)\n",
    "print(f'Score for model with 2 PCA features: {score_1}')\n"
   ]
  },
  {
   "cell_type": "code",
   "execution_count": null,
   "id": "315c3eaa",
   "metadata": {},
   "outputs": [],
   "source": []
  },
  {
   "cell_type": "code",
   "execution_count": null,
   "id": "224615e2",
   "metadata": {},
   "outputs": [],
   "source": []
  },
  {
   "cell_type": "code",
   "execution_count": null,
   "id": "25a22216",
   "metadata": {},
   "outputs": [],
   "source": []
  },
  {
   "cell_type": "code",
   "execution_count": null,
   "id": "520b07c4",
   "metadata": {},
   "outputs": [],
   "source": []
  },
  {
   "cell_type": "code",
   "execution_count": null,
   "id": "1e169609",
   "metadata": {},
   "outputs": [],
   "source": []
  },
  {
   "cell_type": "code",
   "execution_count": null,
   "id": "b75e4c2e",
   "metadata": {},
   "outputs": [],
   "source": []
  },
  {
   "cell_type": "code",
   "execution_count": null,
   "id": "7956d995",
   "metadata": {},
   "outputs": [],
   "source": []
  }
 ],
 "metadata": {
  "kernelspec": {
   "display_name": "Python 3 (ipykernel)",
   "language": "python",
   "name": "python3"
  },
  "language_info": {
   "codemirror_mode": {
    "name": "ipython",
    "version": 3
   },
   "file_extension": ".py",
   "mimetype": "text/x-python",
   "name": "python",
   "nbconvert_exporter": "python",
   "pygments_lexer": "ipython3",
   "version": "3.9.7"
  }
 },
 "nbformat": 4,
 "nbformat_minor": 5
}
